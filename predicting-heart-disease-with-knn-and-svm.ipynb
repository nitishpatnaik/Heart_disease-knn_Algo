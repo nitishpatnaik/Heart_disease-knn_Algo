{
 "cells": [
  {
   "cell_type": "markdown",
   "execution_count": null,
   "metadata": {
    "papermill": {
     "duration": 0.009965,
     "end_time": "2020-08-27T21:28:40.833639",
     "exception": false,
     "start_time": "2020-08-27T21:28:40.823674",
     "status": "completed"
    },
    "tags": []
   },
   "source": [
    "# Predicting Heart Disease with K-NN and SVM"
   ]
  },
  {
   "cell_type": "markdown",
   "execution_count": null,
   "metadata": {
    "papermill": {
     "duration": 0.008671,
     "end_time": "2020-08-27T21:28:40.850092",
     "exception": false,
     "start_time": "2020-08-27T21:28:40.841421",
     "status": "completed"
    },
    "tags": []
   },
   "source": [
    "This notebook is a simple introduction to the K-NN and SVM algorithms using a heart disease dataset that can be found at https://data.world/informatics-edu/heart-disease-prediction."
   ]
  },
  {
   "cell_type": "markdown",
   "execution_count": null,
   "metadata": {
    "papermill": {
     "duration": 0.008676,
     "end_time": "2020-08-27T21:28:40.866359",
     "exception": false,
     "start_time": "2020-08-27T21:28:40.857683",
     "status": "completed"
    },
    "tags": []
   },
   "source": [
    "# Importing Libraries"
   ]
  },
  {
   "cell_type": "code",
   "execution_count": 1,
   "metadata": {
    "_cell_guid": "b1076dfc-b9ad-4769-8c92-a6c4dae69d19",
    "_uuid": "8f2839f25d086af736a60e9eeb907d3b93b6e0e5",
    "execution": {
     "iopub.execute_input": "2020-08-27T21:28:40.890466Z",
     "iopub.status.busy": "2020-08-27T21:28:40.889687Z",
     "iopub.status.idle": "2020-08-27T21:28:42.132586Z",
     "shell.execute_reply": "2020-08-27T21:28:42.131734Z"
    },
    "papermill": {
     "duration": 1.257511,
     "end_time": "2020-08-27T21:28:42.132717",
     "exception": false,
     "start_time": "2020-08-27T21:28:40.875206",
     "status": "completed"
    },
    "tags": []
   },
   "outputs": [],
   "source": [
    "import pandas as pd\n",
    "import numpy as np\n",
    "import matplotlib.pyplot as plt\n",
    "import seaborn as sns\n",
    "from sklearn.preprocessing import StandardScaler\n",
    "from sklearn.metrics import accuracy_score\n",
    "from sklearn.metrics import confusion_matrix\n",
    "from sklearn.metrics import f1_score\n",
    "from sklearn.model_selection import train_test_split\n",
    "import warnings\n",
    "warnings.filterwarnings('ignore')\n",
    "import sklearn.neighbors\n",
    "from sklearn.neighbors import KNeighborsClassifier"
   ]
  },
  {
   "cell_type": "markdown",
   "execution_count": null,
   "metadata": {
    "papermill": {
     "duration": 0.007137,
     "end_time": "2020-08-27T21:28:42.147750",
     "exception": false,
     "start_time": "2020-08-27T21:28:42.140613",
     "status": "completed"
    },
    "tags": []
   },
   "source": [
    "# Data"
   ]
  },
  {
   "cell_type": "code",
   "execution_count": 2,
   "metadata": {
    "execution": {
     "iopub.execute_input": "2020-08-27T21:28:42.171953Z",
     "iopub.status.busy": "2020-08-27T21:28:42.171143Z",
     "iopub.status.idle": "2020-08-27T21:28:42.181986Z",
     "shell.execute_reply": "2020-08-27T21:28:42.182537Z"
    },
    "papermill": {
     "duration": 0.027628,
     "end_time": "2020-08-27T21:28:42.182689",
     "exception": false,
     "start_time": "2020-08-27T21:28:42.155061",
     "status": "completed"
    },
    "tags": []
   },
   "outputs": [],
   "source": [
    "df = pd.read_csv('../input/heart-disease-prediction/Heart_Disease_Prediction.csv')"
   ]
  },
  {
   "cell_type": "code",
   "execution_count": 3,
   "metadata": {
    "execution": {
     "iopub.execute_input": "2020-08-27T21:28:42.215706Z",
     "iopub.status.busy": "2020-08-27T21:28:42.214946Z",
     "iopub.status.idle": "2020-08-27T21:28:42.227297Z",
     "shell.execute_reply": "2020-08-27T21:28:42.226575Z"
    },
    "papermill": {
     "duration": 0.037071,
     "end_time": "2020-08-27T21:28:42.227414",
     "exception": false,
     "start_time": "2020-08-27T21:28:42.190343",
     "status": "completed"
    },
    "tags": []
   },
   "outputs": [
    {
     "data": {
      "text/html": [
       "<div>\n",
       "<style scoped>\n",
       "    .dataframe tbody tr th:only-of-type {\n",
       "        vertical-align: middle;\n",
       "    }\n",
       "\n",
       "    .dataframe tbody tr th {\n",
       "        vertical-align: top;\n",
       "    }\n",
       "\n",
       "    .dataframe thead th {\n",
       "        text-align: right;\n",
       "    }\n",
       "</style>\n",
       "<table border=\"1\" class=\"dataframe\">\n",
       "  <thead>\n",
       "    <tr style=\"text-align: right;\">\n",
       "      <th></th>\n",
       "      <th>Age</th>\n",
       "      <th>Sex</th>\n",
       "      <th>Chest pain type</th>\n",
       "      <th>BP</th>\n",
       "      <th>Cholesterol</th>\n",
       "      <th>FBS over 120</th>\n",
       "      <th>EKG results</th>\n",
       "      <th>Max HR</th>\n",
       "      <th>Exercise angina</th>\n",
       "      <th>ST depression</th>\n",
       "      <th>Slope of ST</th>\n",
       "      <th>Number of vessels fluro</th>\n",
       "      <th>Thallium</th>\n",
       "      <th>Heart Disease</th>\n",
       "    </tr>\n",
       "  </thead>\n",
       "  <tbody>\n",
       "    <tr>\n",
       "      <th>0</th>\n",
       "      <td>70</td>\n",
       "      <td>1</td>\n",
       "      <td>4</td>\n",
       "      <td>130</td>\n",
       "      <td>322</td>\n",
       "      <td>0</td>\n",
       "      <td>2</td>\n",
       "      <td>109</td>\n",
       "      <td>0</td>\n",
       "      <td>2.4</td>\n",
       "      <td>2</td>\n",
       "      <td>3</td>\n",
       "      <td>3</td>\n",
       "      <td>Presence</td>\n",
       "    </tr>\n",
       "    <tr>\n",
       "      <th>1</th>\n",
       "      <td>67</td>\n",
       "      <td>0</td>\n",
       "      <td>3</td>\n",
       "      <td>115</td>\n",
       "      <td>564</td>\n",
       "      <td>0</td>\n",
       "      <td>2</td>\n",
       "      <td>160</td>\n",
       "      <td>0</td>\n",
       "      <td>1.6</td>\n",
       "      <td>2</td>\n",
       "      <td>0</td>\n",
       "      <td>7</td>\n",
       "      <td>Absence</td>\n",
       "    </tr>\n",
       "    <tr>\n",
       "      <th>2</th>\n",
       "      <td>57</td>\n",
       "      <td>1</td>\n",
       "      <td>2</td>\n",
       "      <td>124</td>\n",
       "      <td>261</td>\n",
       "      <td>0</td>\n",
       "      <td>0</td>\n",
       "      <td>141</td>\n",
       "      <td>0</td>\n",
       "      <td>0.3</td>\n",
       "      <td>1</td>\n",
       "      <td>0</td>\n",
       "      <td>7</td>\n",
       "      <td>Presence</td>\n",
       "    </tr>\n",
       "    <tr>\n",
       "      <th>3</th>\n",
       "      <td>64</td>\n",
       "      <td>1</td>\n",
       "      <td>4</td>\n",
       "      <td>128</td>\n",
       "      <td>263</td>\n",
       "      <td>0</td>\n",
       "      <td>0</td>\n",
       "      <td>105</td>\n",
       "      <td>1</td>\n",
       "      <td>0.2</td>\n",
       "      <td>2</td>\n",
       "      <td>1</td>\n",
       "      <td>7</td>\n",
       "      <td>Absence</td>\n",
       "    </tr>\n",
       "    <tr>\n",
       "      <th>4</th>\n",
       "      <td>74</td>\n",
       "      <td>0</td>\n",
       "      <td>2</td>\n",
       "      <td>120</td>\n",
       "      <td>269</td>\n",
       "      <td>0</td>\n",
       "      <td>2</td>\n",
       "      <td>121</td>\n",
       "      <td>1</td>\n",
       "      <td>0.2</td>\n",
       "      <td>1</td>\n",
       "      <td>1</td>\n",
       "      <td>3</td>\n",
       "      <td>Absence</td>\n",
       "    </tr>\n",
       "  </tbody>\n",
       "</table>\n",
       "</div>"
      ],
      "text/plain": [
       "   Age  Sex  Chest pain type   BP  Cholesterol  FBS over 120  EKG results  \\\n",
       "0   70    1                4  130          322             0            2   \n",
       "1   67    0                3  115          564             0            2   \n",
       "2   57    1                2  124          261             0            0   \n",
       "3   64    1                4  128          263             0            0   \n",
       "4   74    0                2  120          269             0            2   \n",
       "\n",
       "   Max HR  Exercise angina  ST depression  Slope of ST  \\\n",
       "0     109                0            2.4            2   \n",
       "1     160                0            1.6            2   \n",
       "2     141                0            0.3            1   \n",
       "3     105                1            0.2            2   \n",
       "4     121                1            0.2            1   \n",
       "\n",
       "   Number of vessels fluro  Thallium Heart Disease  \n",
       "0                        3         3      Presence  \n",
       "1                        0         7       Absence  \n",
       "2                        0         7      Presence  \n",
       "3                        1         7       Absence  \n",
       "4                        1         3       Absence  "
      ]
     },
     "execution_count": 3,
     "metadata": {},
     "output_type": "execute_result"
    }
   ],
   "source": [
    "df.head()"
   ]
  },
  {
   "cell_type": "code",
   "execution_count": 4,
   "metadata": {
    "execution": {
     "iopub.execute_input": "2020-08-27T21:28:42.256704Z",
     "iopub.status.busy": "2020-08-27T21:28:42.255681Z",
     "iopub.status.idle": "2020-08-27T21:28:42.305405Z",
     "shell.execute_reply": "2020-08-27T21:28:42.304760Z"
    },
    "papermill": {
     "duration": 0.06999,
     "end_time": "2020-08-27T21:28:42.305527",
     "exception": false,
     "start_time": "2020-08-27T21:28:42.235537",
     "status": "completed"
    },
    "tags": []
   },
   "outputs": [
    {
     "data": {
      "text/html": [
       "<div>\n",
       "<style scoped>\n",
       "    .dataframe tbody tr th:only-of-type {\n",
       "        vertical-align: middle;\n",
       "    }\n",
       "\n",
       "    .dataframe tbody tr th {\n",
       "        vertical-align: top;\n",
       "    }\n",
       "\n",
       "    .dataframe thead th {\n",
       "        text-align: right;\n",
       "    }\n",
       "</style>\n",
       "<table border=\"1\" class=\"dataframe\">\n",
       "  <thead>\n",
       "    <tr style=\"text-align: right;\">\n",
       "      <th></th>\n",
       "      <th>Age</th>\n",
       "      <th>Sex</th>\n",
       "      <th>Chest pain type</th>\n",
       "      <th>BP</th>\n",
       "      <th>Cholesterol</th>\n",
       "      <th>FBS over 120</th>\n",
       "      <th>EKG results</th>\n",
       "      <th>Max HR</th>\n",
       "      <th>Exercise angina</th>\n",
       "      <th>ST depression</th>\n",
       "      <th>Slope of ST</th>\n",
       "      <th>Number of vessels fluro</th>\n",
       "      <th>Thallium</th>\n",
       "    </tr>\n",
       "  </thead>\n",
       "  <tbody>\n",
       "    <tr>\n",
       "      <th>count</th>\n",
       "      <td>270.000000</td>\n",
       "      <td>270.000000</td>\n",
       "      <td>270.000000</td>\n",
       "      <td>270.000000</td>\n",
       "      <td>270.000000</td>\n",
       "      <td>270.000000</td>\n",
       "      <td>270.000000</td>\n",
       "      <td>270.000000</td>\n",
       "      <td>270.000000</td>\n",
       "      <td>270.00000</td>\n",
       "      <td>270.000000</td>\n",
       "      <td>270.000000</td>\n",
       "      <td>270.000000</td>\n",
       "    </tr>\n",
       "    <tr>\n",
       "      <th>mean</th>\n",
       "      <td>54.433333</td>\n",
       "      <td>0.677778</td>\n",
       "      <td>3.174074</td>\n",
       "      <td>131.344444</td>\n",
       "      <td>249.659259</td>\n",
       "      <td>0.148148</td>\n",
       "      <td>1.022222</td>\n",
       "      <td>149.677778</td>\n",
       "      <td>0.329630</td>\n",
       "      <td>1.05000</td>\n",
       "      <td>1.585185</td>\n",
       "      <td>0.670370</td>\n",
       "      <td>4.696296</td>\n",
       "    </tr>\n",
       "    <tr>\n",
       "      <th>std</th>\n",
       "      <td>9.109067</td>\n",
       "      <td>0.468195</td>\n",
       "      <td>0.950090</td>\n",
       "      <td>17.861608</td>\n",
       "      <td>51.686237</td>\n",
       "      <td>0.355906</td>\n",
       "      <td>0.997891</td>\n",
       "      <td>23.165717</td>\n",
       "      <td>0.470952</td>\n",
       "      <td>1.14521</td>\n",
       "      <td>0.614390</td>\n",
       "      <td>0.943896</td>\n",
       "      <td>1.940659</td>\n",
       "    </tr>\n",
       "    <tr>\n",
       "      <th>min</th>\n",
       "      <td>29.000000</td>\n",
       "      <td>0.000000</td>\n",
       "      <td>1.000000</td>\n",
       "      <td>94.000000</td>\n",
       "      <td>126.000000</td>\n",
       "      <td>0.000000</td>\n",
       "      <td>0.000000</td>\n",
       "      <td>71.000000</td>\n",
       "      <td>0.000000</td>\n",
       "      <td>0.00000</td>\n",
       "      <td>1.000000</td>\n",
       "      <td>0.000000</td>\n",
       "      <td>3.000000</td>\n",
       "    </tr>\n",
       "    <tr>\n",
       "      <th>25%</th>\n",
       "      <td>48.000000</td>\n",
       "      <td>0.000000</td>\n",
       "      <td>3.000000</td>\n",
       "      <td>120.000000</td>\n",
       "      <td>213.000000</td>\n",
       "      <td>0.000000</td>\n",
       "      <td>0.000000</td>\n",
       "      <td>133.000000</td>\n",
       "      <td>0.000000</td>\n",
       "      <td>0.00000</td>\n",
       "      <td>1.000000</td>\n",
       "      <td>0.000000</td>\n",
       "      <td>3.000000</td>\n",
       "    </tr>\n",
       "    <tr>\n",
       "      <th>50%</th>\n",
       "      <td>55.000000</td>\n",
       "      <td>1.000000</td>\n",
       "      <td>3.000000</td>\n",
       "      <td>130.000000</td>\n",
       "      <td>245.000000</td>\n",
       "      <td>0.000000</td>\n",
       "      <td>2.000000</td>\n",
       "      <td>153.500000</td>\n",
       "      <td>0.000000</td>\n",
       "      <td>0.80000</td>\n",
       "      <td>2.000000</td>\n",
       "      <td>0.000000</td>\n",
       "      <td>3.000000</td>\n",
       "    </tr>\n",
       "    <tr>\n",
       "      <th>75%</th>\n",
       "      <td>61.000000</td>\n",
       "      <td>1.000000</td>\n",
       "      <td>4.000000</td>\n",
       "      <td>140.000000</td>\n",
       "      <td>280.000000</td>\n",
       "      <td>0.000000</td>\n",
       "      <td>2.000000</td>\n",
       "      <td>166.000000</td>\n",
       "      <td>1.000000</td>\n",
       "      <td>1.60000</td>\n",
       "      <td>2.000000</td>\n",
       "      <td>1.000000</td>\n",
       "      <td>7.000000</td>\n",
       "    </tr>\n",
       "    <tr>\n",
       "      <th>max</th>\n",
       "      <td>77.000000</td>\n",
       "      <td>1.000000</td>\n",
       "      <td>4.000000</td>\n",
       "      <td>200.000000</td>\n",
       "      <td>564.000000</td>\n",
       "      <td>1.000000</td>\n",
       "      <td>2.000000</td>\n",
       "      <td>202.000000</td>\n",
       "      <td>1.000000</td>\n",
       "      <td>6.20000</td>\n",
       "      <td>3.000000</td>\n",
       "      <td>3.000000</td>\n",
       "      <td>7.000000</td>\n",
       "    </tr>\n",
       "  </tbody>\n",
       "</table>\n",
       "</div>"
      ],
      "text/plain": [
       "              Age         Sex  Chest pain type          BP  Cholesterol  \\\n",
       "count  270.000000  270.000000       270.000000  270.000000   270.000000   \n",
       "mean    54.433333    0.677778         3.174074  131.344444   249.659259   \n",
       "std      9.109067    0.468195         0.950090   17.861608    51.686237   \n",
       "min     29.000000    0.000000         1.000000   94.000000   126.000000   \n",
       "25%     48.000000    0.000000         3.000000  120.000000   213.000000   \n",
       "50%     55.000000    1.000000         3.000000  130.000000   245.000000   \n",
       "75%     61.000000    1.000000         4.000000  140.000000   280.000000   \n",
       "max     77.000000    1.000000         4.000000  200.000000   564.000000   \n",
       "\n",
       "       FBS over 120  EKG results      Max HR  Exercise angina  ST depression  \\\n",
       "count    270.000000   270.000000  270.000000       270.000000      270.00000   \n",
       "mean       0.148148     1.022222  149.677778         0.329630        1.05000   \n",
       "std        0.355906     0.997891   23.165717         0.470952        1.14521   \n",
       "min        0.000000     0.000000   71.000000         0.000000        0.00000   \n",
       "25%        0.000000     0.000000  133.000000         0.000000        0.00000   \n",
       "50%        0.000000     2.000000  153.500000         0.000000        0.80000   \n",
       "75%        0.000000     2.000000  166.000000         1.000000        1.60000   \n",
       "max        1.000000     2.000000  202.000000         1.000000        6.20000   \n",
       "\n",
       "       Slope of ST  Number of vessels fluro    Thallium  \n",
       "count   270.000000               270.000000  270.000000  \n",
       "mean      1.585185                 0.670370    4.696296  \n",
       "std       0.614390                 0.943896    1.940659  \n",
       "min       1.000000                 0.000000    3.000000  \n",
       "25%       1.000000                 0.000000    3.000000  \n",
       "50%       2.000000                 0.000000    3.000000  \n",
       "75%       2.000000                 1.000000    7.000000  \n",
       "max       3.000000                 3.000000    7.000000  "
      ]
     },
     "execution_count": 4,
     "metadata": {},
     "output_type": "execute_result"
    }
   ],
   "source": [
    "df.describe()"
   ]
  },
  {
   "cell_type": "code",
   "execution_count": 5,
   "metadata": {
    "execution": {
     "iopub.execute_input": "2020-08-27T21:28:42.328565Z",
     "iopub.status.busy": "2020-08-27T21:28:42.327535Z",
     "iopub.status.idle": "2020-08-27T21:28:42.331631Z",
     "shell.execute_reply": "2020-08-27T21:28:42.331037Z"
    },
    "papermill": {
     "duration": 0.017688,
     "end_time": "2020-08-27T21:28:42.331754",
     "exception": false,
     "start_time": "2020-08-27T21:28:42.314066",
     "status": "completed"
    },
    "tags": []
   },
   "outputs": [
    {
     "data": {
      "text/plain": [
       "(270, 14)"
      ]
     },
     "execution_count": 5,
     "metadata": {},
     "output_type": "execute_result"
    }
   ],
   "source": [
    "df.shape"
   ]
  },
  {
   "cell_type": "code",
   "execution_count": 6,
   "metadata": {
    "execution": {
     "iopub.execute_input": "2020-08-27T21:28:42.355663Z",
     "iopub.status.busy": "2020-08-27T21:28:42.354622Z",
     "iopub.status.idle": "2020-08-27T21:28:42.359394Z",
     "shell.execute_reply": "2020-08-27T21:28:42.358682Z"
    },
    "papermill": {
     "duration": 0.019027,
     "end_time": "2020-08-27T21:28:42.359519",
     "exception": false,
     "start_time": "2020-08-27T21:28:42.340492",
     "status": "completed"
    },
    "tags": []
   },
   "outputs": [
    {
     "data": {
      "text/plain": [
       "False"
      ]
     },
     "execution_count": 6,
     "metadata": {},
     "output_type": "execute_result"
    }
   ],
   "source": [
    "# Checking for missing values.\n",
    "df.isnull().values.any()"
   ]
  },
  {
   "cell_type": "code",
   "execution_count": 7,
   "metadata": {
    "execution": {
     "iopub.execute_input": "2020-08-27T21:28:42.384090Z",
     "iopub.status.busy": "2020-08-27T21:28:42.383186Z",
     "iopub.status.idle": "2020-08-27T21:28:42.387777Z",
     "shell.execute_reply": "2020-08-27T21:28:42.387151Z"
    },
    "papermill": {
     "duration": 0.019579,
     "end_time": "2020-08-27T21:28:42.387897",
     "exception": false,
     "start_time": "2020-08-27T21:28:42.368318",
     "status": "completed"
    },
    "tags": []
   },
   "outputs": [
    {
     "data": {
      "text/plain": [
       "1    183\n",
       "0     87\n",
       "Name: Sex, dtype: int64"
      ]
     },
     "execution_count": 7,
     "metadata": {},
     "output_type": "execute_result"
    }
   ],
   "source": [
    "# Checking for imbalanced data based on sex.\n",
    "df['Sex'].value_counts()"
   ]
  },
  {
   "cell_type": "code",
   "execution_count": 8,
   "metadata": {
    "execution": {
     "iopub.execute_input": "2020-08-27T21:28:42.421442Z",
     "iopub.status.busy": "2020-08-27T21:28:42.420477Z",
     "iopub.status.idle": "2020-08-27T21:28:42.423732Z",
     "shell.execute_reply": "2020-08-27T21:28:42.424333Z"
    },
    "papermill": {
     "duration": 0.026752,
     "end_time": "2020-08-27T21:28:42.424484",
     "exception": false,
     "start_time": "2020-08-27T21:28:42.397732",
     "status": "completed"
    },
    "tags": []
   },
   "outputs": [
    {
     "data": {
      "text/plain": [
       "Absence     150\n",
       "Presence    120\n",
       "Name: Heart Disease, dtype: int64"
      ]
     },
     "execution_count": 8,
     "metadata": {},
     "output_type": "execute_result"
    }
   ],
   "source": [
    "# Checking for imbalanced data based on outcome.\n",
    "df['Heart Disease'].value_counts()"
   ]
  },
  {
   "cell_type": "code",
   "execution_count": 9,
   "metadata": {
    "execution": {
     "iopub.execute_input": "2020-08-27T21:28:42.453827Z",
     "iopub.status.busy": "2020-08-27T21:28:42.453091Z",
     "iopub.status.idle": "2020-08-27T21:28:42.636610Z",
     "shell.execute_reply": "2020-08-27T21:28:42.635764Z"
    },
    "papermill": {
     "duration": 0.201872,
     "end_time": "2020-08-27T21:28:42.636752",
     "exception": false,
     "start_time": "2020-08-27T21:28:42.434880",
     "status": "completed"
    },
    "tags": []
   },
   "outputs": [
    {
     "data": {
      "text/plain": [
       "<matplotlib.axes._subplots.AxesSubplot at 0x7fcbea863e50>"
      ]
     },
     "execution_count": 9,
     "metadata": {},
     "output_type": "execute_result"
    },
    {
     "data": {
      "image/png": "[encoded data removed]",
      "text/plain": [
       "<Figure size 432x288 with 1 Axes>"
      ]
     },
     "metadata": {
      "needs_background": "light"
     },
     "output_type": "display_data"
    }
   ],
   "source": [
    "sns.countplot(x='Heart Disease', data=df)"
   ]
  },
  {
   "cell_type": "code",
   "execution_count": 10,
   "metadata": {
    "execution": {
     "iopub.execute_input": "2020-08-27T21:28:42.662858Z",
     "iopub.status.busy": "2020-08-27T21:28:42.662156Z",
     "iopub.status.idle": "2020-08-27T21:28:42.685910Z",
     "shell.execute_reply": "2020-08-27T21:28:42.685348Z"
    },
    "papermill": {
     "duration": 0.039528,
     "end_time": "2020-08-27T21:28:42.686030",
     "exception": false,
     "start_time": "2020-08-27T21:28:42.646502",
     "status": "completed"
    },
    "tags": []
   },
   "outputs": [
    {
     "data": {
      "text/html": [
       "<div>\n",
       "<style scoped>\n",
       "    .dataframe tbody tr th:only-of-type {\n",
       "        vertical-align: middle;\n",
       "    }\n",
       "\n",
       "    .dataframe tbody tr th {\n",
       "        vertical-align: top;\n",
       "    }\n",
       "\n",
       "    .dataframe thead th {\n",
       "        text-align: right;\n",
       "    }\n",
       "</style>\n",
       "<table border=\"1\" class=\"dataframe\">\n",
       "  <thead>\n",
       "    <tr style=\"text-align: right;\">\n",
       "      <th></th>\n",
       "      <th>Age</th>\n",
       "      <th>Sex</th>\n",
       "      <th>Chest pain type</th>\n",
       "      <th>BP</th>\n",
       "      <th>Cholesterol</th>\n",
       "      <th>FBS over 120</th>\n",
       "      <th>EKG results</th>\n",
       "      <th>Max HR</th>\n",
       "      <th>Exercise angina</th>\n",
       "      <th>ST depression</th>\n",
       "      <th>Slope of ST</th>\n",
       "      <th>Number of vessels fluro</th>\n",
       "      <th>Thallium</th>\n",
       "    </tr>\n",
       "  </thead>\n",
       "  <tbody>\n",
       "    <tr>\n",
       "      <th>Age</th>\n",
       "      <td>1.000000</td>\n",
       "      <td>-0.094401</td>\n",
       "      <td>0.096920</td>\n",
       "      <td>0.273053</td>\n",
       "      <td>0.220056</td>\n",
       "      <td>0.123458</td>\n",
       "      <td>0.128171</td>\n",
       "      <td>-0.402215</td>\n",
       "      <td>0.098297</td>\n",
       "      <td>0.194234</td>\n",
       "      <td>0.159774</td>\n",
       "      <td>0.356081</td>\n",
       "      <td>0.106100</td>\n",
       "    </tr>\n",
       "    <tr>\n",
       "      <th>Sex</th>\n",
       "      <td>-0.094401</td>\n",
       "      <td>1.000000</td>\n",
       "      <td>0.034636</td>\n",
       "      <td>-0.062693</td>\n",
       "      <td>-0.201647</td>\n",
       "      <td>0.042140</td>\n",
       "      <td>0.039253</td>\n",
       "      <td>-0.076101</td>\n",
       "      <td>0.180022</td>\n",
       "      <td>0.097412</td>\n",
       "      <td>0.050545</td>\n",
       "      <td>0.086830</td>\n",
       "      <td>0.391046</td>\n",
       "    </tr>\n",
       "    <tr>\n",
       "      <th>Chest pain type</th>\n",
       "      <td>0.096920</td>\n",
       "      <td>0.034636</td>\n",
       "      <td>1.000000</td>\n",
       "      <td>-0.043196</td>\n",
       "      <td>0.090465</td>\n",
       "      <td>-0.098537</td>\n",
       "      <td>0.074325</td>\n",
       "      <td>-0.317682</td>\n",
       "      <td>0.353160</td>\n",
       "      <td>0.167244</td>\n",
       "      <td>0.136900</td>\n",
       "      <td>0.225890</td>\n",
       "      <td>0.262659</td>\n",
       "    </tr>\n",
       "    <tr>\n",
       "      <th>BP</th>\n",
       "      <td>0.273053</td>\n",
       "      <td>-0.062693</td>\n",
       "      <td>-0.043196</td>\n",
       "      <td>1.000000</td>\n",
       "      <td>0.173019</td>\n",
       "      <td>0.155681</td>\n",
       "      <td>0.116157</td>\n",
       "      <td>-0.039136</td>\n",
       "      <td>0.082793</td>\n",
       "      <td>0.222800</td>\n",
       "      <td>0.142472</td>\n",
       "      <td>0.085697</td>\n",
       "      <td>0.132045</td>\n",
       "    </tr>\n",
       "    <tr>\n",
       "      <th>Cholesterol</th>\n",
       "      <td>0.220056</td>\n",
       "      <td>-0.201647</td>\n",
       "      <td>0.090465</td>\n",
       "      <td>0.173019</td>\n",
       "      <td>1.000000</td>\n",
       "      <td>0.025186</td>\n",
       "      <td>0.167652</td>\n",
       "      <td>-0.018739</td>\n",
       "      <td>0.078243</td>\n",
       "      <td>0.027709</td>\n",
       "      <td>-0.005755</td>\n",
       "      <td>0.126541</td>\n",
       "      <td>0.028836</td>\n",
       "    </tr>\n",
       "    <tr>\n",
       "      <th>FBS over 120</th>\n",
       "      <td>0.123458</td>\n",
       "      <td>0.042140</td>\n",
       "      <td>-0.098537</td>\n",
       "      <td>0.155681</td>\n",
       "      <td>0.025186</td>\n",
       "      <td>1.000000</td>\n",
       "      <td>0.053499</td>\n",
       "      <td>0.022494</td>\n",
       "      <td>-0.004107</td>\n",
       "      <td>-0.025538</td>\n",
       "      <td>0.044076</td>\n",
       "      <td>0.123774</td>\n",
       "      <td>0.049237</td>\n",
       "    </tr>\n",
       "    <tr>\n",
       "      <th>EKG results</th>\n",
       "      <td>0.128171</td>\n",
       "      <td>0.039253</td>\n",
       "      <td>0.074325</td>\n",
       "      <td>0.116157</td>\n",
       "      <td>0.167652</td>\n",
       "      <td>0.053499</td>\n",
       "      <td>1.000000</td>\n",
       "      <td>-0.074628</td>\n",
       "      <td>0.095098</td>\n",
       "      <td>0.120034</td>\n",
       "      <td>0.160614</td>\n",
       "      <td>0.114368</td>\n",
       "      <td>0.007337</td>\n",
       "    </tr>\n",
       "    <tr>\n",
       "      <th>Max HR</th>\n",
       "      <td>-0.402215</td>\n",
       "      <td>-0.076101</td>\n",
       "      <td>-0.317682</td>\n",
       "      <td>-0.039136</td>\n",
       "      <td>-0.018739</td>\n",
       "      <td>0.022494</td>\n",
       "      <td>-0.074628</td>\n",
       "      <td>1.000000</td>\n",
       "      <td>-0.380719</td>\n",
       "      <td>-0.349045</td>\n",
       "      <td>-0.386847</td>\n",
       "      <td>-0.265333</td>\n",
       "      <td>-0.253397</td>\n",
       "    </tr>\n",
       "    <tr>\n",
       "      <th>Exercise angina</th>\n",
       "      <td>0.098297</td>\n",
       "      <td>0.180022</td>\n",
       "      <td>0.353160</td>\n",
       "      <td>0.082793</td>\n",
       "      <td>0.078243</td>\n",
       "      <td>-0.004107</td>\n",
       "      <td>0.095098</td>\n",
       "      <td>-0.380719</td>\n",
       "      <td>1.000000</td>\n",
       "      <td>0.274672</td>\n",
       "      <td>0.255908</td>\n",
       "      <td>0.153347</td>\n",
       "      <td>0.321449</td>\n",
       "    </tr>\n",
       "    <tr>\n",
       "      <th>ST depression</th>\n",
       "      <td>0.194234</td>\n",
       "      <td>0.097412</td>\n",
       "      <td>0.167244</td>\n",
       "      <td>0.222800</td>\n",
       "      <td>0.027709</td>\n",
       "      <td>-0.025538</td>\n",
       "      <td>0.120034</td>\n",
       "      <td>-0.349045</td>\n",
       "      <td>0.274672</td>\n",
       "      <td>1.000000</td>\n",
       "      <td>0.609712</td>\n",
       "      <td>0.255005</td>\n",
       "      <td>0.324333</td>\n",
       "    </tr>\n",
       "    <tr>\n",
       "      <th>Slope of ST</th>\n",
       "      <td>0.159774</td>\n",
       "      <td>0.050545</td>\n",
       "      <td>0.136900</td>\n",
       "      <td>0.142472</td>\n",
       "      <td>-0.005755</td>\n",
       "      <td>0.044076</td>\n",
       "      <td>0.160614</td>\n",
       "      <td>-0.386847</td>\n",
       "      <td>0.255908</td>\n",
       "      <td>0.609712</td>\n",
       "      <td>1.000000</td>\n",
       "      <td>0.109498</td>\n",
       "      <td>0.283678</td>\n",
       "    </tr>\n",
       "    <tr>\n",
       "      <th>Number of vessels fluro</th>\n",
       "      <td>0.356081</td>\n",
       "      <td>0.086830</td>\n",
       "      <td>0.225890</td>\n",
       "      <td>0.085697</td>\n",
       "      <td>0.126541</td>\n",
       "      <td>0.123774</td>\n",
       "      <td>0.114368</td>\n",
       "      <td>-0.265333</td>\n",
       "      <td>0.153347</td>\n",
       "      <td>0.255005</td>\n",
       "      <td>0.109498</td>\n",
       "      <td>1.000000</td>\n",
       "      <td>0.255648</td>\n",
       "    </tr>\n",
       "    <tr>\n",
       "      <th>Thallium</th>\n",
       "      <td>0.106100</td>\n",
       "      <td>0.391046</td>\n",
       "      <td>0.262659</td>\n",
       "      <td>0.132045</td>\n",
       "      <td>0.028836</td>\n",
       "      <td>0.049237</td>\n",
       "      <td>0.007337</td>\n",
       "      <td>-0.253397</td>\n",
       "      <td>0.321449</td>\n",
       "      <td>0.324333</td>\n",
       "      <td>0.283678</td>\n",
       "      <td>0.255648</td>\n",
       "      <td>1.000000</td>\n",
       "    </tr>\n",
       "  </tbody>\n",
       "</table>\n",
       "</div>"
      ],
      "text/plain": [
       "                              Age       Sex  Chest pain type        BP  \\\n",
       "Age                      1.000000 -0.094401         0.096920  0.273053   \n",
       "Sex                     -0.094401  1.000000         0.034636 -0.062693   \n",
       "Chest pain type          0.096920  0.034636         1.000000 -0.043196   \n",
       "BP                       0.273053 -0.062693        -0.043196  1.000000   \n",
       "Cholesterol              0.220056 -0.201647         0.090465  0.173019   \n",
       "FBS over 120             0.123458  0.042140        -0.098537  0.155681   \n",
       "EKG results              0.128171  0.039253         0.074325  0.116157   \n",
       "Max HR                  -0.402215 -0.076101        -0.317682 -0.039136   \n",
       "Exercise angina          0.098297  0.180022         0.353160  0.082793   \n",
       "ST depression            0.194234  0.097412         0.167244  0.222800   \n",
       "Slope of ST              0.159774  0.050545         0.136900  0.142472   \n",
       "Number of vessels fluro  0.356081  0.086830         0.225890  0.085697   \n",
       "Thallium                 0.106100  0.391046         0.262659  0.132045   \n",
       "\n",
       "                         Cholesterol  FBS over 120  EKG results    Max HR  \\\n",
       "Age                         0.220056      0.123458     0.128171 -0.402215   \n",
       "Sex                        -0.201647      0.042140     0.039253 -0.076101   \n",
       "Chest pain type             0.090465     -0.098537     0.074325 -0.317682   \n",
       "BP                          0.173019      0.155681     0.116157 -0.039136   \n",
       "Cholesterol                 1.000000      0.025186     0.167652 -0.018739   \n",
       "FBS over 120                0.025186      1.000000     0.053499  0.022494   \n",
       "EKG results                 0.167652      0.053499     1.000000 -0.074628   \n",
       "Max HR                     -0.018739      0.022494    -0.074628  1.000000   \n",
       "Exercise angina             0.078243     -0.004107     0.095098 -0.380719   \n",
       "ST depression               0.027709     -0.025538     0.120034 -0.349045   \n",
       "Slope of ST                -0.005755      0.044076     0.160614 -0.386847   \n",
       "Number of vessels fluro     0.126541      0.123774     0.114368 -0.265333   \n",
       "Thallium                    0.028836      0.049237     0.007337 -0.253397   \n",
       "\n",
       "                         Exercise angina  ST depression  Slope of ST  \\\n",
       "Age                             0.098297       0.194234     0.159774   \n",
       "Sex                             0.180022       0.097412     0.050545   \n",
       "Chest pain type                 0.353160       0.167244     0.136900   \n",
       "BP                              0.082793       0.222800     0.142472   \n",
       "Cholesterol                     0.078243       0.027709    -0.005755   \n",
       "FBS over 120                   -0.004107      -0.025538     0.044076   \n",
       "EKG results                     0.095098       0.120034     0.160614   \n",
       "Max HR                         -0.380719      -0.349045    -0.386847   \n",
       "Exercise angina                 1.000000       0.274672     0.255908   \n",
       "ST depression                   0.274672       1.000000     0.609712   \n",
       "Slope of ST                     0.255908       0.609712     1.000000   \n",
       "Number of vessels fluro         0.153347       0.255005     0.109498   \n",
       "Thallium                        0.321449       0.324333     0.283678   \n",
       "\n",
       "                         Number of vessels fluro  Thallium  \n",
       "Age                                     0.356081  0.106100  \n",
       "Sex                                     0.086830  0.391046  \n",
       "Chest pain type                         0.225890  0.262659  \n",
       "BP                                      0.085697  0.132045  \n",
       "Cholesterol                             0.126541  0.028836  \n",
       "FBS over 120                            0.123774  0.049237  \n",
       "EKG results                             0.114368  0.007337  \n",
       "Max HR                                 -0.265333 -0.253397  \n",
       "Exercise angina                         0.153347  0.321449  \n",
       "ST depression                           0.255005  0.324333  \n",
       "Slope of ST                             0.109498  0.283678  \n",
       "Number of vessels fluro                 1.000000  0.255648  \n",
       "Thallium                                0.255648  1.000000  "
      ]
     },
     "execution_count": 10,
     "metadata": {},
     "output_type": "execute_result"
    }
   ],
   "source": [
    "# Checking for any correlations.\n",
    "df.corr()"
   ]
  },
  {
   "cell_type": "markdown",
   "execution_count": null,
   "metadata": {
    "papermill": {
     "duration": 0.011193,
     "end_time": "2020-08-27T21:28:42.707471",
     "exception": false,
     "start_time": "2020-08-27T21:28:42.696278",
     "status": "completed"
    },
    "tags": []
   },
   "source": [
    "# K-Nearest Neighbours "
   ]
  },
  {
   "cell_type": "code",
   "execution_count": 11,
   "metadata": {
    "execution": {
     "iopub.execute_input": "2020-08-27T21:28:42.737475Z",
     "iopub.status.busy": "2020-08-27T21:28:42.736704Z",
     "iopub.status.idle": "2020-08-27T21:28:42.740002Z",
     "shell.execute_reply": "2020-08-27T21:28:42.739406Z"
    },
    "papermill": {
     "duration": 0.021762,
     "end_time": "2020-08-27T21:28:42.740126",
     "exception": false,
     "start_time": "2020-08-27T21:28:42.718364",
     "status": "completed"
    },
    "tags": []
   },
   "outputs": [],
   "source": [
    "# Splitting the dataset into training and testing sets.\n",
    "x = df.iloc[:, :-2]\n",
    "y = df.iloc[:, -1]\n",
    "x_train, x_test, y_train, y_test = train_test_split(x, y, random_state = 0, test_size = 0.35)"
   ]
  },
  {
   "cell_type": "code",
   "execution_count": 12,
   "metadata": {
    "execution": {
     "iopub.execute_input": "2020-08-27T21:28:42.767785Z",
     "iopub.status.busy": "2020-08-27T21:28:42.767041Z",
     "iopub.status.idle": "2020-08-27T21:28:42.776776Z",
     "shell.execute_reply": "2020-08-27T21:28:42.775761Z"
    },
    "papermill": {
     "duration": 0.026613,
     "end_time": "2020-08-27T21:28:42.776935",
     "exception": false,
     "start_time": "2020-08-27T21:28:42.750322",
     "status": "completed"
    },
    "tags": []
   },
   "outputs": [],
   "source": [
    "# Using standard scaler as a standardization technique.\n",
    "sc_x = StandardScaler()\n",
    "x_train = sc_x.fit_transform(x_train)\n",
    "x_test = sc_x.transform(x_test)"
   ]
  },
  {
   "cell_type": "code",
   "execution_count": 13,
   "metadata": {
    "execution": {
     "iopub.execute_input": "2020-08-27T21:28:42.805639Z",
     "iopub.status.busy": "2020-08-27T21:28:42.804599Z",
     "iopub.status.idle": "2020-08-27T21:28:42.808283Z",
     "shell.execute_reply": "2020-08-27T21:28:42.808836Z"
    },
    "papermill": {
     "duration": 0.020583,
     "end_time": "2020-08-27T21:28:42.808973",
     "exception": false,
     "start_time": "2020-08-27T21:28:42.788390",
     "status": "completed"
    },
    "tags": []
   },
   "outputs": [
    {
     "data": {
      "text/plain": [
       "9.746794344808963"
      ]
     },
     "execution_count": 13,
     "metadata": {},
     "output_type": "execute_result"
    }
   ],
   "source": [
    "# Looking for optimal number of nearest neighbours.\n",
    "import math\n",
    "math.sqrt(len(y_test))"
   ]
  },
  {
   "cell_type": "code",
   "execution_count": 14,
   "metadata": {
    "execution": {
     "iopub.execute_input": "2020-08-27T21:28:42.838186Z",
     "iopub.status.busy": "2020-08-27T21:28:42.837236Z",
     "iopub.status.idle": "2020-08-27T21:28:42.844029Z",
     "shell.execute_reply": "2020-08-27T21:28:42.843424Z"
    },
    "papermill": {
     "duration": 0.024802,
     "end_time": "2020-08-27T21:28:42.844145",
     "exception": false,
     "start_time": "2020-08-27T21:28:42.819343",
     "status": "completed"
    },
    "tags": []
   },
   "outputs": [
    {
     "data": {
      "text/plain": [
       "KNeighborsClassifier(metric='euclidean', n_neighbors=9)"
      ]
     },
     "execution_count": 14,
     "metadata": {},
     "output_type": "execute_result"
    }
   ],
   "source": [
    "# Creating KNN Model.\n",
    "classifier = KNeighborsClassifier(n_neighbors = 9, p = 2, metric = 'euclidean')\n",
    "classifier.fit(x_train,y_train)"
   ]
  },
  {
   "cell_type": "code",
   "execution_count": 15,
   "metadata": {
    "execution": {
     "iopub.execute_input": "2020-08-27T21:28:42.870268Z",
     "iopub.status.busy": "2020-08-27T21:28:42.869551Z",
     "iopub.status.idle": "2020-08-27T21:28:42.879596Z",
     "shell.execute_reply": "2020-08-27T21:28:42.879004Z"
    },
    "papermill": {
     "duration": 0.025007,
     "end_time": "2020-08-27T21:28:42.879718",
     "exception": false,
     "start_time": "2020-08-27T21:28:42.854711",
     "status": "completed"
    },
    "tags": []
   },
   "outputs": [
    {
     "data": {
      "text/plain": [
       "array(['Absence', 'Absence', 'Presence', 'Presence', 'Absence', 'Absence',\n",
       "       'Absence', 'Absence', 'Presence', 'Absence', 'Absence', 'Absence',\n",
       "       'Presence', 'Presence', 'Presence', 'Absence', 'Absence',\n",
       "       'Presence', 'Presence', 'Absence', 'Presence', 'Absence',\n",
       "       'Presence', 'Presence', 'Absence', 'Presence', 'Absence',\n",
       "       'Absence', 'Absence', 'Presence', 'Presence', 'Absence',\n",
       "       'Presence', 'Absence', 'Presence', 'Absence', 'Presence',\n",
       "       'Presence', 'Absence', 'Absence', 'Absence', 'Absence', 'Absence',\n",
       "       'Presence', 'Absence', 'Absence', 'Presence', 'Absence',\n",
       "       'Presence', 'Presence', 'Presence', 'Presence', 'Absence',\n",
       "       'Absence', 'Absence', 'Absence', 'Absence', 'Presence', 'Absence',\n",
       "       'Presence', 'Absence', 'Absence', 'Absence', 'Absence', 'Absence',\n",
       "       'Presence', 'Absence', 'Presence', 'Absence', 'Absence',\n",
       "       'Presence', 'Presence', 'Presence', 'Absence', 'Presence',\n",
       "       'Presence', 'Presence', 'Absence', 'Absence', 'Presence',\n",
       "       'Presence', 'Absence', 'Absence', 'Absence', 'Presence', 'Absence',\n",
       "       'Presence', 'Absence', 'Presence', 'Absence', 'Presence',\n",
       "       'Absence', 'Absence', 'Presence', 'Absence'], dtype=object)"
      ]
     },
     "execution_count": 15,
     "metadata": {},
     "output_type": "execute_result"
    }
   ],
   "source": [
    "y_pred = classifier.predict(x_test)\n",
    "y_pred"
   ]
  },
  {
   "cell_type": "code",
   "execution_count": 16,
   "metadata": {
    "execution": {
     "iopub.execute_input": "2020-08-27T21:28:42.907996Z",
     "iopub.status.busy": "2020-08-27T21:28:42.907172Z",
     "iopub.status.idle": "2020-08-27T21:28:42.910498Z",
     "shell.execute_reply": "2020-08-27T21:28:42.911087Z"
    },
    "papermill": {
     "duration": 0.020833,
     "end_time": "2020-08-27T21:28:42.911245",
     "exception": false,
     "start_time": "2020-08-27T21:28:42.890412",
     "status": "completed"
    },
    "tags": []
   },
   "outputs": [
    {
     "name": "stdout",
     "output_type": "stream",
     "text": [
      "[[43 12]\n",
      " [11 29]]\n"
     ]
    }
   ],
   "source": [
    "cm = confusion_matrix(y_test,y_pred)\n",
    "print(cm)"
   ]
  },
  {
   "cell_type": "code",
   "execution_count": 17,
   "metadata": {
    "execution": {
     "iopub.execute_input": "2020-08-27T21:28:42.938636Z",
     "iopub.status.busy": "2020-08-27T21:28:42.937732Z",
     "iopub.status.idle": "2020-08-27T21:28:42.941827Z",
     "shell.execute_reply": "2020-08-27T21:28:42.941112Z"
    },
    "papermill": {
     "duration": 0.020015,
     "end_time": "2020-08-27T21:28:42.941939",
     "exception": false,
     "start_time": "2020-08-27T21:28:42.921924",
     "status": "completed"
    },
    "tags": []
   },
   "outputs": [
    {
     "name": "stdout",
     "output_type": "stream",
     "text": [
      "0.7578947368421053\n"
     ]
    }
   ],
   "source": [
    "print(accuracy_score(y_test,y_pred))"
   ]
  },
  {
   "cell_type": "markdown",
   "execution_count": null,
   "metadata": {
    "papermill": {
     "duration": 0.010593,
     "end_time": "2020-08-27T21:28:42.963707",
     "exception": false,
     "start_time": "2020-08-27T21:28:42.953114",
     "status": "completed"
    },
    "tags": []
   },
   "source": [
    "# SVM Model"
   ]
  },
  {
   "cell_type": "code",
   "execution_count": 18,
   "metadata": {
    "execution": {
     "iopub.execute_input": "2020-08-27T21:28:42.993072Z",
     "iopub.status.busy": "2020-08-27T21:28:42.992307Z",
     "iopub.status.idle": "2020-08-27T21:28:42.998502Z",
     "shell.execute_reply": "2020-08-27T21:28:42.997919Z"
    },
    "papermill": {
     "duration": 0.024152,
     "end_time": "2020-08-27T21:28:42.998622",
     "exception": false,
     "start_time": "2020-08-27T21:28:42.974470",
     "status": "completed"
    },
    "tags": []
   },
   "outputs": [],
   "source": [
    "# Creating SVM model.\n",
    "from sklearn import svm\n",
    "clf = svm.SVC(kernel='rbf')\n",
    "clf.fit(x_train,y_train)\n",
    "y_pred = clf.predict(x_test)"
   ]
  },
  {
   "cell_type": "code",
   "execution_count": 19,
   "metadata": {
    "execution": {
     "iopub.execute_input": "2020-08-27T21:28:43.025101Z",
     "iopub.status.busy": "2020-08-27T21:28:43.024429Z",
     "iopub.status.idle": "2020-08-27T21:28:43.029908Z",
     "shell.execute_reply": "2020-08-27T21:28:43.030450Z"
    },
    "papermill": {
     "duration": 0.020782,
     "end_time": "2020-08-27T21:28:43.030591",
     "exception": false,
     "start_time": "2020-08-27T21:28:43.009809",
     "status": "completed"
    },
    "tags": []
   },
   "outputs": [
    {
     "data": {
      "text/plain": [
       "array(['Absence', 'Absence', 'Presence', 'Presence', 'Absence', 'Absence',\n",
       "       'Absence', 'Absence', 'Presence', 'Absence', 'Absence', 'Absence',\n",
       "       'Presence', 'Presence', 'Presence', 'Absence', 'Absence',\n",
       "       'Presence', 'Presence', 'Absence', 'Presence', 'Absence',\n",
       "       'Presence', 'Presence', 'Presence', 'Absence', 'Absence',\n",
       "       'Absence', 'Absence', 'Absence', 'Presence', 'Absence', 'Presence',\n",
       "       'Absence', 'Presence', 'Absence', 'Presence', 'Presence',\n",
       "       'Absence', 'Absence', 'Absence', 'Absence', 'Absence', 'Absence',\n",
       "       'Absence', 'Absence', 'Presence', 'Absence', 'Presence',\n",
       "       'Presence', 'Presence', 'Presence', 'Absence', 'Absence',\n",
       "       'Absence', 'Absence', 'Absence', 'Presence', 'Absence', 'Presence',\n",
       "       'Absence', 'Absence', 'Absence', 'Absence', 'Absence', 'Presence',\n",
       "       'Presence', 'Presence', 'Absence', 'Absence', 'Presence',\n",
       "       'Absence', 'Presence', 'Absence', 'Presence', 'Absence',\n",
       "       'Presence', 'Absence', 'Absence', 'Presence', 'Presence',\n",
       "       'Absence', 'Presence', 'Absence', 'Presence', 'Absence',\n",
       "       'Presence', 'Presence', 'Presence', 'Absence', 'Presence',\n",
       "       'Absence', 'Absence', 'Presence', 'Absence'], dtype=object)"
      ]
     },
     "execution_count": 19,
     "metadata": {},
     "output_type": "execute_result"
    }
   ],
   "source": [
    "y_pred = clf.predict(x_test)\n",
    "y_pred"
   ]
  },
  {
   "cell_type": "code",
   "execution_count": 20,
   "metadata": {
    "execution": {
     "iopub.execute_input": "2020-08-27T21:28:43.059353Z",
     "iopub.status.busy": "2020-08-27T21:28:43.058643Z",
     "iopub.status.idle": "2020-08-27T21:28:43.061969Z",
     "shell.execute_reply": "2020-08-27T21:28:43.062515Z"
    },
    "papermill": {
     "duration": 0.020957,
     "end_time": "2020-08-27T21:28:43.062656",
     "exception": false,
     "start_time": "2020-08-27T21:28:43.041699",
     "status": "completed"
    },
    "tags": []
   },
   "outputs": [
    {
     "name": "stdout",
     "output_type": "stream",
     "text": [
      "[[44 11]\n",
      " [11 29]]\n"
     ]
    }
   ],
   "source": [
    "cm = confusion_matrix(y_test,y_pred)\n",
    "print(cm)"
   ]
  },
  {
   "cell_type": "code",
   "execution_count": 21,
   "metadata": {
    "execution": {
     "iopub.execute_input": "2020-08-27T21:28:43.092182Z",
     "iopub.status.busy": "2020-08-27T21:28:43.091502Z",
     "iopub.status.idle": "2020-08-27T21:28:43.094826Z",
     "shell.execute_reply": "2020-08-27T21:28:43.095379Z"
    },
    "papermill": {
     "duration": 0.021748,
     "end_time": "2020-08-27T21:28:43.095514",
     "exception": false,
     "start_time": "2020-08-27T21:28:43.073766",
     "status": "completed"
    },
    "tags": []
   },
   "outputs": [
    {
     "name": "stdout",
     "output_type": "stream",
     "text": [
      "0.7684210526315789\n"
     ]
    }
   ],
   "source": [
    "print(accuracy_score(y_test,y_pred))"
   ]
  },
  {
   "cell_type": "code",
   "execution_count": null,
   "metadata": {
    "papermill": {
     "duration": 0.012305,
     "end_time": "2020-08-27T21:28:43.122450",
     "exception": false,
     "start_time": "2020-08-27T21:28:43.110145",
     "status": "completed"
    },
    "tags": []
   },
   "outputs": [],
   "source": []
  }
 ],
 "metadata": {
  "kernelspec": {
   "display_name": "Python 3",
   "language": "python",
   "name": "python3"
  },
  "language_info": {
   "codemirror_mode": {
    "name": "ipython",
    "version": 3
   },
   "file_extension": ".py",
   "mimetype": "text/x-python",
   "name": "python",
   "nbconvert_exporter": "python",
   "pygments_lexer": "ipython3",
   "version": "3.7.6"
  },
  "papermill": {
   "duration": 7.032528,
   "end_time": "2020-08-27T21:28:43.241640",
   "environment_variables": {},
   "exception": null,
   "input_path": "__notebook__.ipynb",
   "output_path": "__notebook__.ipynb",
   "parameters": {},
   "start_time": "2020-08-27T21:28:36.209112",
   "version": "2.1.0"
  }
 },
 "nbformat": 4,
 "nbformat_minor": 4
}
